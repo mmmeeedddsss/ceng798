{
 "cells": [
  {
   "cell_type": "markdown",
   "source": [
    "# Ceng 798 - Quantum Computing Project\n",
    "## Grover's Algorithm for String Matching\n",
    "### Mert Tunc - 2023 Spring\n"
   ],
   "metadata": {
    "collapsed": false
   }
  },
  {
   "cell_type": "markdown",
   "source": [
    "In this project, we will implement [Grover's algorithm](https://learn.qiskit.org/course/ch-algorithms/grovers-algorithm) for string matching. The problem is defined as follows:\n",
    "Given a string $w$ of length $n$ and a pattern $p$ of length $m$, find all the starting positions of $p$ in $w$.\n",
    "\n",
    "In the linerature, there are three papers claiming they solved the string matching problem with the help of Grover's algorithm. The first one is [1] and the second one is [2]. In this project, I tried to implement a simler and a novel way of solving the string matching problem with the Grover's algorithm.\n",
    "\n",
    "[1] https://doi.org/10.1038/s41534-021-00369-3\n",
    "[2] https://www.sciencedirect.com/science/article/pii/S1570866703000108"
   ],
   "metadata": {
    "collapsed": false
   }
  },
  {
   "cell_type": "markdown",
   "source": [
    "So first, let us define the imports we'll use,"
   ],
   "metadata": {
    "collapsed": false
   }
  },
  {
   "cell_type": "code",
   "execution_count": 57,
   "outputs": [
    {
     "name": "stderr",
     "output_type": "stream",
     "text": [
      "ibmqfactory.load_account:WARNING:2023-06-07 12:12:15,078: Credentials are already in use. The existing account in the session will be replaced.\n"
     ]
    }
   ],
   "source": [
    "%matplotlib inline\n",
    "import matplotlib.pyplot as plt\n",
    "import math\n",
    "\n",
    "from qiskit.visualization import plot_histogram\n",
    "from qiskit import transpile\n",
    "from qiskit import QuantumCircuit, QuantumRegister\n",
    "from qiskit import IBMQ\n",
    "\n",
    "provider = IBMQ.load_account()"
   ],
   "metadata": {
    "collapsed": false,
    "ExecuteTime": {
     "end_time": "2023-06-07T09:12:21.235567Z",
     "start_time": "2023-06-07T09:12:14.164755Z"
    }
   }
  },
  {
   "cell_type": "markdown",
   "source": [
    "And define the variables we'll use,\n",
    "as in the original statement, we have $w$ and $p$ as the string and the pattern respectively.\n",
    "\n",
    "In the implementation, it is assumed that the $n$ and $m$ have a length of power 2"
   ],
   "metadata": {
    "collapsed": false
   }
  },
  {
   "cell_type": "code",
   "execution_count": 43,
   "outputs": [],
   "source": [
    "inp_w = \"1101\"\n",
    "inp_p = \"01\""
   ],
   "metadata": {
    "collapsed": false,
    "ExecuteTime": {
     "end_time": "2023-06-03T14:53:12.807599Z",
     "start_time": "2023-06-03T14:53:12.775107Z"
    }
   }
  },
  {
   "cell_type": "code",
   "execution_count": 44,
   "outputs": [],
   "source": [
    "n = len(inp_w)\n",
    "m = len(inp_p)"
   ],
   "metadata": {
    "collapsed": false,
    "ExecuteTime": {
     "end_time": "2023-06-03T14:53:12.807893Z",
     "start_time": "2023-06-03T14:53:12.780435Z"
    }
   }
  },
  {
   "cell_type": "code",
   "execution_count": 45,
   "outputs": [],
   "source": [
    "assert n >= m, \"n must be greater than m\"\n",
    "assert m >= 1, \"m must be greater than 0\"\n",
    "assert 2 ** int(math.log2(n)) == n, \"n must be a power of 2\"\n",
    "assert 2 ** int(math.log2(m)) == m, \"m must be a power of 2\""
   ],
   "metadata": {
    "collapsed": false,
    "ExecuteTime": {
     "end_time": "2023-06-03T14:53:12.808079Z",
     "start_time": "2023-06-03T14:53:12.786419Z"
    }
   }
  },
  {
   "cell_type": "markdown",
   "source": [
    "Grover's algorithm shares a framework with us on how to implement unstructured search with a time complexity of $O(\\sqrt{n})$\n",
    "\n",
    "The framework is as follows:\n",
    "- Initialize the state $|s\\rangle$ to a uniform superposition of all possible states.\n",
    "- Repeat the following steps $O(\\sqrt{n})$ times:\n",
    "    - Apply the oracle $U_f$ to the state $|s\\rangle$.\n",
    "    - Apply the diffusion operator $U_s$ to the state $|s\\rangle$.\n",
    "- Measure the state $|s\\rangle$.\n",
    "\n",
    "Following image is an illustration of the steps of Grover's Algorithm\n",
    "![Grovers Illustration](assets/grover_circuit_high_level.png)\n"
   ],
   "metadata": {
    "collapsed": false
   }
  },
  {
   "cell_type": "markdown",
   "source": [
    "In our case, the state we'll be searching will consist of the indexes of the string $w$.\n",
    "In these indexes, we'll be searching for the pattern $p$.\n",
    "\n",
    "For example, when we are  $w = 1101$ and $p = 01$,"
   ],
   "metadata": {
    "collapsed": false
   }
  },
  {
   "cell_type": "code",
   "execution_count": 46,
   "outputs": [],
   "source": [
    "def list_to_chunks(l, chunk_size):\n",
    "    for i in range(0, len(l) // chunk_size):\n",
    "        st = i * chunk_size\n",
    "        ed = (i + 1) * chunk_size\n",
    "        yield l[st:ed]\n",
    "\n",
    "\n",
    "def set_inputs(qc, inp_w, inp_p):\n",
    "    for i, c in enumerate(inp_w):\n",
    "        if c == \"1\":\n",
    "            qc.x(w[i])\n",
    "\n",
    "    for i, c in enumerate(inp_p):\n",
    "        if c == \"1\":\n",
    "            qc.x(p[i])\n",
    "\n",
    "\n",
    "def initialize_s(qc):\n",
    "    \"\"\"Apply a H-gate to 'qubits' in qc\"\"\"\n",
    "    qc.h(s_list)"
   ],
   "metadata": {
    "collapsed": false,
    "ExecuteTime": {
     "end_time": "2023-06-03T14:53:12.857843Z",
     "start_time": "2023-06-03T14:53:12.793567Z"
    }
   }
  },
  {
   "cell_type": "code",
   "execution_count": 46,
   "outputs": [],
   "source": [],
   "metadata": {
    "collapsed": false,
    "ExecuteTime": {
     "end_time": "2023-06-03T14:53:12.858122Z",
     "start_time": "2023-06-03T14:53:12.796107Z"
    }
   }
  },
  {
   "cell_type": "code",
   "execution_count": 47,
   "outputs": [],
   "source": [
    "def oracle(qc: QuantumCircuit, start_pos):\n",
    "    # if the start_pos'th bit is equal on w and p, then increase\n",
    "    format_string = \"{:0\" + str(len(s_chunks[0])) + \"b}\"\n",
    "    pos_in_binary = format_string.format(start_pos)\n",
    "    qc.barrier(label=f\"start {pos_in_binary}\")\n",
    "    for offset, s in enumerate(s_chunks):\n",
    "        pos_in_binary = format_string.format(start_pos + offset)\n",
    "\n",
    "        # for k, pos in enumerate(pos_in_binary):  # 10\n",
    "        flipped_s = []\n",
    "        flipped_w = []\n",
    "        flipped_p = []\n",
    "\n",
    "        # Here, we would need a anc line to or the cases then the s1 should be 1\n",
    "        # there are n-m-1 such cases, w0 = p0, w1=p0 ...\n",
    "        for k, pos in enumerate(pos_in_binary):  # 10\n",
    "            if pos == \"0\":\n",
    "                flipped_s.append(s[k])\n",
    "                qc.x(s[k])\n",
    "\n",
    "        if inp_p[0 + offset] == \"0\":\n",
    "            flipped_p.append(p[0 + offset])\n",
    "            qc.x(p[0 + offset])\n",
    "\n",
    "            flipped_w.append(w[0 + start_pos + offset])\n",
    "            qc.x(w[0 + start_pos + offset])\n",
    "\n",
    "        qc.mcx(list(s) + [w[start_pos + offset], p[0 + offset]], bit_matches[offset])\n",
    "\n",
    "        # qc.ccz(w[start_pos + offset], p[0 + offset], s[k])\n",
    "\n",
    "        if len(flipped_w):\n",
    "            qc.x(flipped_w)\n",
    "        if len(flipped_p):\n",
    "            qc.x(flipped_p)\n",
    "        if len(flipped_s):\n",
    "            qc.x(flipped_s)\n",
    "    qc.barrier(label=f\"end {pos_in_binary}\")"
   ],
   "metadata": {
    "collapsed": false,
    "ExecuteTime": {
     "end_time": "2023-06-03T14:53:12.858282Z",
     "start_time": "2023-06-03T14:53:12.804143Z"
    }
   }
  },
  {
   "cell_type": "code",
   "execution_count": 48,
   "outputs": [],
   "source": [
    "def diffusion(qc: QuantumCircuit):\n",
    "    \"\"\"Apply a diffusion circuit to the register 'qubits' in qc\"\"\"\n",
    "    for reg in s_chunks:\n",
    "        qc.h(reg)\n",
    "        qc.x(reg)\n",
    "\n",
    "    qc.mcx(s_list, match)\n",
    "    qc.z(match)\n",
    "\n",
    "    for reg in s_chunks:\n",
    "        qc.x(reg)\n",
    "        qc.h(reg)"
   ],
   "metadata": {
    "collapsed": false,
    "ExecuteTime": {
     "end_time": "2023-06-03T14:53:12.858656Z",
     "start_time": "2023-06-03T14:53:12.810343Z"
    }
   }
  },
  {
   "cell_type": "code",
   "execution_count": 48,
   "outputs": [],
   "source": [],
   "metadata": {
    "collapsed": false,
    "ExecuteTime": {
     "end_time": "2023-06-03T14:53:12.858806Z",
     "start_time": "2023-06-03T14:53:12.813930Z"
    }
   }
  },
  {
   "cell_type": "code",
   "execution_count": 49,
   "outputs": [],
   "source": [
    "def measurement_s(grover_circuit, num_shots=1000):\n",
    "    num_bits = len(s_list)\n",
    "    meas = QuantumCircuit(num_bits, num_bits)\n",
    "    meas.measure(list(range(num_bits)), list(range(num_bits)))\n",
    "\n",
    "    backend = provider.backend.ibmq_qasm_simulator  # ibmq_qasm_simulator\n",
    "    grover_circuit.compose(meas, inplace=True, qubits=s_list)\n",
    "    result = backend.run(transpile(grover_circuit, backend), shots=num_shots).result()\n",
    "    counts = result.get_counts(grover_circuit)\n",
    "\n",
    "    return counts\n"
   ],
   "metadata": {
    "collapsed": false,
    "ExecuteTime": {
     "end_time": "2023-06-03T14:53:12.858949Z",
     "start_time": "2023-06-03T14:53:12.818896Z"
    }
   }
  },
  {
   "cell_type": "code",
   "execution_count": 50,
   "outputs": [],
   "source": [
    "num_sbits = math.ceil(math.log2(n - m)) + 1\n",
    "\n",
    "# Number of s'es will be len(m)\n",
    "# Number of bits in s'es will be num_sbits\n",
    "\n",
    "s_list = QuantumRegister(num_sbits * m, 's_list')\n",
    "s_chunks = list(list_to_chunks(s_list, num_sbits))\n",
    "w = QuantumRegister(n, 'w')\n",
    "p = QuantumRegister(m, 'p')\n",
    "bit_matches = QuantumRegister(m, 'bit_matches')\n",
    "match = QuantumRegister(1, 'match')\n",
    "\n",
    "qc = QuantumCircuit(s_list, w, p, bit_matches, match)"
   ],
   "metadata": {
    "collapsed": false,
    "ExecuteTime": {
     "end_time": "2023-06-03T14:53:12.859112Z",
     "start_time": "2023-06-03T14:53:12.824090Z"
    }
   }
  },
  {
   "cell_type": "code",
   "execution_count": 51,
   "outputs": [
    {
     "name": "stdout",
     "output_type": "stream",
     "text": [
      "Circuit depth is 4\n"
     ]
    }
   ],
   "source": [
    "set_inputs(qc, inp_w, inp_p)\n",
    "initialize_s(qc)\n",
    "\n",
    "num_repetitions = int(math.sqrt(2 ** (num_sbits * m)))\n",
    "print(f\"Circuit depth is {num_repetitions}\")\n",
    "for repetition in range(num_repetitions):\n",
    "    for start_pos in range(n - m + 1):\n",
    "        oracle(qc, start_pos)\n",
    "        qc.mcx(bit_matches, match)\n",
    "        oracle(qc, start_pos)\n",
    "    diffusion(qc)\n",
    "counts = measurement_s(qc)"
   ],
   "metadata": {
    "collapsed": false,
    "ExecuteTime": {
     "end_time": "2023-06-03T14:53:20.430754Z",
     "start_time": "2023-06-03T14:53:12.844685Z"
    }
   }
  },
  {
   "cell_type": "code",
   "execution_count": 52,
   "outputs": [
    {
     "name": "stdout",
     "output_type": "stream",
     "text": [
      "{'1011': 1, '1001': 5, '0010': 4, '0101': 4, '1100': 5, '0001': 9, '1000': 7, '1101': 913, '0000': 5, '0011': 9, '0111': 5, '1111': 4, '1010': 10, '0110': 9, '0100': 10}\n"
     ]
    },
    {
     "data": {
      "text/plain": "<Figure size 504x360 with 1 Axes>",
      "image/png": "[encoded data removed]"
     },
     "execution_count": 52,
     "metadata": {},
     "output_type": "execute_result"
    }
   ],
   "source": [
    "print(counts)\n",
    "from qiskit.visualization import plot_distribution\n",
    "\n",
    "%matplotlib inline\n",
    "def plot_histogram(counts):\n",
    "    aggregated_counts = {}\n",
    "    for k, v in counts.items():\n",
    "        agg_k = k[-num_sbits:]\n",
    "        if agg_k in aggregated_counts:\n",
    "            aggregated_counts[agg_k] += v\n",
    "        else:\n",
    "            aggregated_counts[agg_k] = v\n",
    "\n",
    "    return plot_histogram(aggregated_counts)\n",
    "plot_histogram(counts)"
   ],
   "metadata": {
    "collapsed": false,
    "ExecuteTime": {
     "end_time": "2023-06-03T14:53:20.536469Z",
     "start_time": "2023-06-03T14:53:20.419277Z"
    }
   }
  },
  {
   "cell_type": "code",
   "execution_count": 52,
   "outputs": [],
   "source": [],
   "metadata": {
    "collapsed": false,
    "ExecuteTime": {
     "end_time": "2023-06-03T14:53:20.536717Z",
     "start_time": "2023-06-03T14:53:20.533456Z"
    }
   }
  },
  {
   "cell_type": "code",
   "execution_count": null,
   "outputs": [],
   "source": [],
   "metadata": {
    "collapsed": false
   }
  }
 ],
 "metadata": {
  "kernelspec": {
   "display_name": "Python 3",
   "language": "python",
   "name": "python3"
  },
  "language_info": {
   "codemirror_mode": {
    "name": "ipython",
    "version": 2
   },
   "file_extension": ".py",
   "mimetype": "text/x-python",
   "name": "python",
   "nbconvert_exporter": "python",
   "pygments_lexer": "ipython2",
   "version": "2.7.6"
  }
 },
 "nbformat": 4,
 "nbformat_minor": 0
}
