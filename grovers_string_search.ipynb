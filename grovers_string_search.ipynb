{
 "cells": [
  {
   "cell_type": "markdown",
   "metadata": {},
   "source": [
    "# METU Ceng 798 - Quantum Computing Term Project\n",
    "## Grover's Algorithm for String Matching\n",
    "### Mert Tunc - 2023 Spring\n"
   ]
  },
  {
   "cell_type": "markdown",
   "metadata": {},
   "source": [
    "In this project, we will implement [Grover's algorithm](https://learn.qiskit.org/course/ch-algorithms/grovers-algorithm) for string matching. The problem is defined as follows:\n",
    ">Given a string $w$ of length $n$ and a pattern $p$ of length $m$, find all the starting positions of $p$ in $w$.\n",
    "\n",
    "In the literature, there are papers claiming they solved the string matching problem with the help of Grover's algorithm. I reviewed the following three during my literature search.\n",
    "\n",
    "[1] https://doi.org/10.1038/s41534-021-00369-3\n",
    "\n",
    "[2] https://www.sciencedirect.com/science/article/pii/S1570866703000108\n",
    "\n",
    "[3] https://diposit.ub.edu/dspace/bitstream/2445/188047/1/BARBER%C3%80%20RODR%C3%8DGUEZ%20J%C3%9ALIA_6057590_assignsubmission_file_TFG-Barbera-Rodriguez-Julia.pdf\n",
    "\n",
    "I started my term project trying to replicate what is shared in paper [3], and couldn't replicate what authors shared. I then tried to alter what I think would be better and successfully improved their implementation in terms of:\n",
    "- Accuracy: Results they shared does not suggest the solutions by a statistically significant amount.\n",
    "- Efficiency: I have reduced the number of required qubits for the same sized input compared to it.\n",
    "\n",
    "My initial plan was to implement paper [3], and improve it with ideas I could get from papers [1] and [2], but as I couldn't replicate the results of paper [3], I decided to implement my own solution.\n",
    "\n",
    "So, in this project, I ended up with implementing my own solution to the string matching problem with the help of Grover's algorithm. It seems like a novel approach to the problem, but it is very naive, so it suits more in the form of a tutorial."
   ]
  },
  {
   "cell_type": "markdown",
   "metadata": {},
   "source": [
    "\n",
    "---\n"
   ]
  },
  {
   "cell_type": "markdown",
   "metadata": {},
   "source": [
    "Let's start by importing the required libraries."
   ]
  },
  {
   "cell_type": "code",
   "execution_count": 1,
   "metadata": {
    "ExecuteTime": {
     "end_time": "2023-06-07T15:23:22.190189Z",
     "start_time": "2023-06-07T15:23:04.750346Z"
    }
   },
   "outputs": [],
   "source": [
    "import math\n",
    "\n",
    "from qiskit.visualization import plot_histogram\n",
    "from qiskit import transpile\n",
    "from qiskit import QuantumCircuit, QuantumRegister\n",
    "from qiskit_ibm_provider import IBMProvider\n",
    "\n",
    "provider = IBMProvider()"
   ]
  },
  {
   "cell_type": "markdown",
   "metadata": {},
   "source": [
    "And define the variables we'll use.\n",
    "As in the problem statement, we have $w$ and $p$ as the string and the pattern respectively. For our application, we'll use $w$ and $p$ as binary strings.\n",
    "\n",
    "In the implementation, it is assumed that the $n$ and $m$ have a length of power 2."
   ]
  },
  {
   "cell_type": "code",
   "execution_count": 21,
   "metadata": {
    "ExecuteTime": {
     "end_time": "2023-06-07T18:11:06.521143Z",
     "start_time": "2023-06-07T18:11:06.517298Z"
    }
   },
   "outputs": [],
   "source": [
    "inp_w = \"1101\"\n",
    "inp_p = \"01\""
   ]
  },
  {
   "cell_type": "code",
   "execution_count": 22,
   "metadata": {
    "ExecuteTime": {
     "end_time": "2023-06-07T18:11:06.950996Z",
     "start_time": "2023-06-07T18:11:06.946541Z"
    }
   },
   "outputs": [],
   "source": [
    "n = len(inp_w)\n",
    "m = len(inp_p)"
   ]
  },
  {
   "cell_type": "code",
   "execution_count": 23,
   "metadata": {
    "ExecuteTime": {
     "end_time": "2023-06-07T18:11:07.795412Z",
     "start_time": "2023-06-07T18:11:07.779365Z"
    }
   },
   "outputs": [],
   "source": [
    "assert n >= m, \"n must be greater than m\"\n",
    "assert m >= 1, \"m must be greater than 0\"\n",
    "assert 2 ** int(math.log2(n)) == n, \"n must be a power of 2\"\n",
    "assert 2 ** int(math.log2(m)) == m, \"m must be a power of 2\""
   ]
  },
  {
   "cell_type": "markdown",
   "metadata": {},
   "source": [
    "We can now start implementing the actual solution, after taking a high-level look on what we'll be implementing.\n",
    "\n",
    "Grover's search algorithm shares a framework with us on how to implement unstructured search with a time complexity of $O(\\sqrt{n})$\n",
    "The framework is as follows:\n",
    "- Initialize the state $|s\\rangle$ to a uniform superposition of all possible states.\n",
    "- Repeat the following steps $O(\\sqrt{n})$ times:\n",
    "    - Apply the Grover's oracle $U_f$ to the state $|s\\rangle$.\n",
    "    - Apply the Grover's diffusion operator $U_s$ to the state $|s\\rangle$.\n",
    "- Measure the state $|s\\rangle$.\n",
    "\n",
    "Following image is an illustration of the steps of Grover's Algorithm\n",
    "![Grovers Illustration](https://learn.qiskit.org/content/v2/ch-algorithms/images/grover_circuit_high_level.png)\n"
   ]
  },
  {
   "cell_type": "markdown",
   "metadata": {},
   "source": [
    "In our application, the states that we want to search are consist of the starting index of the pattern in the string. The challenge in the string searchproblem is that, each state brings more than one constraint.\n",
    "\n",
    "e.g For the values we have $w = 1101$ and $p = 01$, the states we will be searching are $00, 01, 10$.\n",
    "\n",
    "Following the same example, state $01$(decimal 1, as the start index of $p$ in $w$) means that:\n",
    "- $w_1$ = $p_0$\n",
    "- $w_2$ = $p_1$"
   ]
  },
  {
   "cell_type": "markdown",
   "metadata": {},
   "source": [
    "\n",
    "Generalization of these constraints for any $w$ and $p$ is as follows:\n",
    "Given:\n",
    "- A state s in binary form representing the start position of the match\n",
    "- A $p$ of length $k$:\n",
    "Constraints to check if the state $s$ is a match:\n",
    "- $w_{s + 0} = p_0$\n",
    "- $w_{s + 1} = p_1$\n",
    "- ...\n",
    "- $w_{s + k} = p_k$\n",
    "\n",
    "Let's implement these checks in our oracle. There are few additional considerations we need to have for the implementation:\n",
    "- Checking if a bit in $w$ and $p$ being equal requires these bits to _flipped_ to 1 before the operation and after the operation if these bits are 0(Since we'll use _multi-input and gates_, [mcx](https://qiskit.org/documentation/stubs/qiskit.circuit.QuantumCircuit.mcx.html).\n",
    "- Similarly, we'll need to _flip_ the bits of $s$ if the bits are 0.\n",
    "- For each constraint, we'll store value of the equivalence(e.g $w_{s + 1} = p_1$) in a intermediate qubit, then use a _multi-controlled and gate_ to _and_ all of them to a single qubit. We'll call these intermediate qubits `bit_matches`, having total length of $p$, and the final qubit as `match`.\n"
   ]
  },
  {
   "cell_type": "markdown",
   "metadata": {},
   "source": [
    "So define the circuit first and initialize the $s$ with Hadamard gates."
   ]
  },
  {
   "cell_type": "code",
   "execution_count": 24,
   "metadata": {
    "ExecuteTime": {
     "end_time": "2023-06-07T18:26:13.317872Z",
     "start_time": "2023-06-07T18:26:13.293767Z"
    }
   },
   "outputs": [],
   "source": [
    "num_sbits = math.ceil(math.log2(n - m)) + 1 # Number of bits required for s to encode all possible start indexes of matches\n",
    "\n",
    "s = QuantumRegister(num_sbits, 's_list')\n",
    "#s_chunks = list(list_to_chunks(s_list, num_sbits))\n",
    "w = QuantumRegister(n, 'w') # w is the string to be searched\n",
    "p = QuantumRegister(m, 'p') # p is the pattern to be searched in w\n",
    "bit_matches = QuantumRegister(m, 'bit_matches') # bit_matches is the intermediate qubits to store the individual constraints\n",
    "match = QuantumRegister(1, 'match') # match is the final qubit to store the result of the oracle\n",
    "\n",
    "qc = QuantumCircuit(s, w, p, bit_matches, match) # all qubits will have starting state of |0>"
   ]
  },
  {
   "cell_type": "code",
   "execution_count": 25,
   "metadata": {
    "ExecuteTime": {
     "end_time": "2023-06-07T18:26:15.247289Z",
     "start_time": "2023-06-07T18:26:15.223816Z"
    }
   },
   "outputs": [],
   "source": [
    "def set_inputs(qc, inp_w, inp_p):\n",
    "    \"\"\"Negate the initial |0> states of s correspondingly to the input w and p\"\"\"\n",
    "    for i, c in enumerate(inp_w):\n",
    "        if c == \"1\":\n",
    "            qc.x(w[i])\n",
    "\n",
    "    for i, c in enumerate(inp_p):\n",
    "        if c == \"1\":\n",
    "            qc.x(p[i])\n",
    "\n",
    "\n",
    "def initialize_s(qc):\n",
    "    \"\"\"Apply H gates to all qubits in s\"\"\"\n",
    "    qc.h(s)\n"
   ]
  },
  {
   "cell_type": "code",
   "execution_count": 26,
   "metadata": {
    "ExecuteTime": {
     "end_time": "2023-06-07T18:26:17.260377Z",
     "start_time": "2023-06-07T18:26:17.251952Z"
    }
   },
   "outputs": [],
   "source": [
    "set_inputs(qc, inp_w, inp_p)\n",
    "initialize_s(qc)"
   ]
  },
  {
   "cell_type": "markdown",
   "metadata": {},
   "source": [
    "Now, we can define an oracle that checks the constraints we defined above."
   ]
  },
  {
   "cell_type": "code",
   "execution_count": 28,
   "metadata": {
    "ExecuteTime": {
     "end_time": "2023-06-07T18:30:07.707076Z",
     "start_time": "2023-06-07T18:30:07.684908Z"
    }
   },
   "outputs": [],
   "source": [
    "# Note that, in strict terms, this is not the complete oracle, but a part of it.\n",
    "# In our circuit builder code, we'll call this method several times with different start positions,\n",
    "# and then apply the mxc gates to the bit_matches and match qubits.\n",
    "# After that, we'll once again call this method for all starting positions\n",
    "# to revert the qubits back to their original state.\n",
    "def oracle(qc: QuantumCircuit, start_pos):\n",
    "    format_string = \"{:0\" + str(len(s)) + \"b}\"\n",
    "    pos_in_binary = format_string.format(start_pos)\n",
    "\n",
    "    # flipped_xyz variables will hold which qubits are flipped in the oracle to revert them back after the mxc gates.\n",
    "    # Recall that we need to flip bits when they are 0 to be able to use them as a condition on mcx gate.\n",
    "    flipped_s = []\n",
    "    for k, pos in enumerate(pos_in_binary):\n",
    "        if pos == \"0\":\n",
    "            flipped_s.append(s[k])\n",
    "            qc.x(s[k])\n",
    "\n",
    "    # Following loop will create the $w_{s + k} = p_k$ for each bit in p\n",
    "    # offset is the k, match_bit is the intermediate qubit to store the result of the constraint\n",
    "    for offset, match_bit in enumerate(bit_matches):\n",
    "        flipped_w = []\n",
    "        flipped_p = []\n",
    "\n",
    "        if inp_p[0 + offset] == \"0\":\n",
    "            flipped_p.append(p[0 + offset])\n",
    "            qc.x(p[0 + offset])\n",
    "\n",
    "            flipped_w.append(w[0 + start_pos + offset])\n",
    "            qc.x(w[0 + start_pos + offset])\n",
    "\n",
    "        # Following gate can be read as: For the current state of s , if w[start_pos + offset] and p[0 + offset] is the same\n",
    "        # Apply X gate to bit_matches[offset], to store the result of the constraint\n",
    "        # This is the part we introduce the constraints of the problem to the circuit\n",
    "        qc.mcx(list(s) + [w[start_pos + offset], p[0 + offset]], bit_matches[offset])\n",
    "\n",
    "        # Revert what we flipped to have 1 in mcx inputs\n",
    "        if len(flipped_w):\n",
    "            qc.x(flipped_w)\n",
    "        if len(flipped_p):\n",
    "            qc.x(flipped_p)\n",
    "\n",
    "    if len(flipped_s):\n",
    "        qc.x(flipped_s)"
   ]
  },
  {
   "cell_type": "markdown",
   "metadata": {},
   "source": [
    "In addition to the oracle, we'll also need to define the diffusion operator. The diffusion operator is defined as follows:"
   ]
  },
  {
   "cell_type": "code",
   "execution_count": 29,
   "metadata": {
    "ExecuteTime": {
     "end_time": "2023-06-07T18:30:18.000215Z",
     "start_time": "2023-06-07T18:30:17.992026Z"
    }
   },
   "outputs": [],
   "source": [
    "def diffusion(qc: QuantumCircuit):\n",
    "    \"\"\"Apply a diffusion circuit to the register 's' in qc\"\"\"\n",
    "    qc.h(s)\n",
    "    qc.x(s)\n",
    "\n",
    "    qc.mcx(s, match)\n",
    "    qc.z(match)\n",
    "\n",
    "    qc.x(s)\n",
    "    qc.h(s)"
   ]
  },
  {
   "cell_type": "markdown",
   "metadata": {},
   "source": [
    "Now, we are almost done, we need to apply these oracle and diffusion opeartors $O(\\sqrt{N})$ times, where $N$ is $\\sqrt(2*len(s))$"
   ]
  },
  {
   "cell_type": "code",
   "execution_count": 30,
   "metadata": {
    "ExecuteTime": {
     "end_time": "2023-06-07T18:30:59.393772Z",
     "start_time": "2023-06-07T18:30:59.371683Z"
    }
   },
   "outputs": [],
   "source": [
    "# Following line and barriers on qc is for demonstration purposes only\n",
    "format_string = \"{:0\" + str(len(s)) + \"b}\"\n",
    "\n",
    "num_repetitions = int(math.sqrt(2 ** num_sbits))\n",
    "for repetition in range(num_repetitions):\n",
    "    qc.barrier(label=f\"Oracle start\")\n",
    "    for start_pos in range(n - m + 1):\n",
    "        pos_in_binary = format_string.format(start_pos)\n",
    "        qc.barrier(label=f\"{pos_in_binary} St.\")\n",
    "        # Apply the oracle, and then extract the match qubit if all intermediate bit_matches are 1,\n",
    "        # then apply the oracle again to revert the changes we made on bit_matches\n",
    "        oracle(qc, start_pos)\n",
    "        qc.mcx(bit_matches, match)\n",
    "        oracle(qc, start_pos)\n",
    "\n",
    "        qc.barrier(label=f\"{pos_in_binary} End.\")\n",
    "    # We then apply the diffusion operator to rotate all probabilities of the states around the mean.\n",
    "    qc.barrier(label=f\"Diffusion start\")\n",
    "\n",
    "    diffusion(qc)\n"
   ]
  },
  {
   "cell_type": "markdown",
   "metadata": {},
   "source": [
    "To measure what we got on $s$ qubits, we define a measurement and append that to the circuit."
   ]
  },
  {
   "cell_type": "code",
   "execution_count": 31,
   "metadata": {
    "ExecuteTime": {
     "end_time": "2023-06-07T18:31:06.866133Z",
     "start_time": "2023-06-07T18:31:06.857647Z"
    }
   },
   "outputs": [],
   "source": [
    "def measurement_s(qc):\n",
    "    num_bits = len(s)\n",
    "    meas = QuantumCircuit(num_bits, num_bits)\n",
    "    meas.measure(list(range(num_bits)), list(range(num_bits)))\n",
    "    qc.compose(meas, inplace=True, qubits=s)\n",
    "\n",
    "measurement_s(qc)"
   ]
  },
  {
   "cell_type": "markdown",
   "metadata": {},
   "source": [
    "Then, run the circuit on a simulator and plot the results."
   ]
  },
  {
   "cell_type": "code",
   "execution_count": 32,
   "metadata": {
    "ExecuteTime": {
     "end_time": "2023-06-07T18:31:18.015347Z",
     "start_time": "2023-06-07T18:31:11.879738Z"
    }
   },
   "outputs": [],
   "source": [
    "def execute_on_sim(qc, num_shots=100):\n",
    "    backend = provider.get_backend('ibmq_qasm_simulator')\n",
    "    result = backend.run(transpile(qc, backend), shots=num_shots).result()\n",
    "    return result.get_counts(qc)\n",
    "\n",
    "\n",
    "counts = execute_on_sim(qc)"
   ]
  },
  {
   "cell_type": "code",
   "execution_count": 33,
   "metadata": {
    "ExecuteTime": {
     "end_time": "2023-06-07T18:31:18.157036Z",
     "start_time": "2023-06-07T18:31:18.018751Z"
    }
   },
   "outputs": [
    {
     "data": {
      "image/png": "[encoded data removed]",
      "text/plain": [
       "<Figure size 504x360 with 1 Axes>"
      ]
     },
     "execution_count": 33,
     "metadata": {},
     "output_type": "execute_result"
    }
   ],
   "source": [
    "plot_histogram(counts)"
   ]
  },
  {
   "cell_type": "markdown",
   "metadata": {},
   "source": [
    "In the above plot, we can see that on 100 shots on simulator, we got only the $10$ match, which is 2 in decimal notation.(Qiskit uses little endian notation, so we read the value $01$ as $10$, and convert it to decimal notation)\n",
    "Our $w$ was $1101$ and $p$ was $01$, and we got the correct result. There is indeed a match for $p$ in $w$ starting from the index 2 in $w$."
   ]
  },
  {
   "cell_type": "markdown",
   "metadata": {},
   "source": [
    "Let's see the circuit we built."
   ]
  },
  {
   "cell_type": "code",
   "execution_count": 34,
   "metadata": {
    "ExecuteTime": {
     "end_time": "2023-06-07T18:35:44.289063Z",
     "start_time": "2023-06-07T18:35:44.235492Z"
    }
   },
   "outputs": [
    {
     "data": {
      "text/html": [
       "<pre style=\"word-wrap: normal;white-space: pre;background: #fff0;line-height: 1.1;font-family: &quot;Courier New&quot;,Courier,monospace\">               ┌───┐ Oracle start  00 St. ┌───┐               ┌───┐┌───┐               ┌───┐»\n",
       "     s_list_0: ┤ H ├──────░──────────░────┤ X ├──■─────────■──┤ X ├┤ X ├──■─────────■──┤ X ├»\n",
       "               ├───┤      ░          ░    ├───┤  │         │  ├───┤├───┤  │         │  ├───┤»\n",
       "     s_list_1: ┤ H ├──────░──────────░────┤ X ├──■─────────■──┤ X ├┤ X ├──■─────────■──┤ X ├»\n",
       "               ├───┤      ░          ░    ├───┤  │  ┌───┐  │  ├───┤└───┘  │  ┌───┐  │  └───┘»\n",
       "          w_0: ┤ X ├──────░──────────░────┤ X ├──■──┤ X ├──┼──┤ X ├───────■──┤ X ├──┼───────»\n",
       "               ├───┤      ░          ░    └───┘  │  └───┘  │  └───┘       │  └───┘  │       »\n",
       "          w_1: ┤ X ├──────░──────────░───────────┼─────────■──────────────┼─────────■───────»\n",
       "               └───┘      ░          ░           │         │              │         │       »\n",
       "          w_2: ───────────░──────────░───────────┼─────────┼──────────────┼─────────┼───────»\n",
       "               ┌───┐      ░          ░           │         │              │         │       »\n",
       "          w_3: ┤ X ├──────░──────────░───────────┼─────────┼──────────────┼─────────┼───────»\n",
       "               └───┘      ░          ░    ┌───┐  │  ┌───┐  │  ┌───┐       │  ┌───┐  │       »\n",
       "          p_0: ───────────░──────────░────┤ X ├──■──┤ X ├──┼──┤ X ├───────■──┤ X ├──┼───────»\n",
       "               ┌───┐      ░          ░    └───┘  │  └───┘  │  └───┘       │  └───┘  │       »\n",
       "          p_1: ┤ X ├──────░──────────░───────────┼─────────■──────────────┼─────────■───────»\n",
       "               └───┘      ░          ░         ┌─┴─┐       │            ┌─┴─┐       │       »\n",
       "bit_matches_0: ───────────░──────────░─────────┤ X ├───────┼────■───────┤ X ├───────┼───────»\n",
       "                          ░          ░         └───┘     ┌─┴─┐  │       └───┘     ┌─┴─┐     »\n",
       "bit_matches_1: ───────────░──────────░───────────────────┤ X ├──■─────────────────┤ X ├─────»\n",
       "                          ░          ░                   └───┘┌─┴─┐               └───┘     »\n",
       "        match: ───────────░──────────░────────────────────────┤ X ├─────────────────────────»\n",
       "                          ░          ░                        └───┘                         »\n",
       "          c: 2/═════════════════════════════════════════════════════════════════════════════»\n",
       "                                                                                            »\n",
       "«                00 End.  01 St. ┌───┐               ┌───┐┌───┐               ┌───┐ 01 End. »\n",
       "«     s_list_0: ────░───────░────┤ X ├──■─────────■──┤ X ├┤ X ├──■─────────■──┤ X ├────░────»\n",
       "«                   ░       ░    └───┘  │         │  └───┘└───┘  │         │  └───┘    ░    »\n",
       "«     s_list_1: ────░───────░───────────■─────────■──────────────■─────────■───────────░────»\n",
       "«                   ░       ░           │         │              │         │           ░    »\n",
       "«          w_0: ────░───────░───────────┼─────────┼──────────────┼─────────┼───────────░────»\n",
       "«                   ░       ░    ┌───┐  │  ┌───┐  │  ┌───┐       │  ┌───┐  │           ░    »\n",
       "«          w_1: ────░───────░────┤ X ├──■──┤ X ├──┼──┤ X ├───────■──┤ X ├──┼───────────░────»\n",
       "«                   ░       ░    └───┘  │  └───┘  │  └───┘       │  └───┘  │           ░    »\n",
       "«          w_2: ────░───────░───────────┼─────────■──────────────┼─────────■───────────░────»\n",
       "«                   ░       ░           │         │              │         │           ░    »\n",
       "«          w_3: ────░───────░───────────┼─────────┼──────────────┼─────────┼───────────░────»\n",
       "«                   ░       ░    ┌───┐  │  ┌───┐  │  ┌───┐       │  ┌───┐  │           ░    »\n",
       "«          p_0: ────░───────░────┤ X ├──■──┤ X ├──┼──┤ X ├───────■──┤ X ├──┼───────────░────»\n",
       "«                   ░       ░    └───┘  │  └───┘  │  └───┘       │  └───┘  │           ░    »\n",
       "«          p_1: ────░───────░───────────┼─────────■──────────────┼─────────■───────────░────»\n",
       "«                   ░       ░         ┌─┴─┐       │            ┌─┴─┐       │           ░    »\n",
       "«bit_matches_0: ────░───────░─────────┤ X ├───────┼────■───────┤ X ├───────┼───────────░────»\n",
       "«                   ░       ░         └───┘     ┌─┴─┐  │       └───┘     ┌─┴─┐         ░    »\n",
       "«bit_matches_1: ────░───────░───────────────────┤ X ├──■─────────────────┤ X ├─────────░────»\n",
       "«                   ░       ░                   └───┘┌─┴─┐               └───┘         ░    »\n",
       "«        match: ────░───────░────────────────────────┤ X ├─────────────────────────────░────»\n",
       "«                   ░       ░                        └───┘                             ░    »\n",
       "«          c: 2/════════════════════════════════════════════════════════════════════════════»\n",
       "«                                                                                           »\n",
       "«                10 St.                                                    10 End. »\n",
       "«     s_list_0: ───░───────────■─────────■──────────────■─────────■───────────░────»\n",
       "«                  ░    ┌───┐  │         │  ┌───┐┌───┐  │         │  ┌───┐    ░    »\n",
       "«     s_list_1: ───░────┤ X ├──■─────────■──┤ X ├┤ X ├──■─────────■──┤ X ├────░────»\n",
       "«                  ░    └───┘  │         │  └───┘└───┘  │         │  └───┘    ░    »\n",
       "«          w_0: ───░───────────┼─────────┼──────────────┼─────────┼───────────░────»\n",
       "«                  ░           │         │              │         │           ░    »\n",
       "«          w_1: ───░───────────┼─────────┼──────────────┼─────────┼───────────░────»\n",
       "«                  ░    ┌───┐  │  ┌───┐  │  ┌───┐       │  ┌───┐  │           ░    »\n",
       "«          w_2: ───░────┤ X ├──■──┤ X ├──┼──┤ X ├───────■──┤ X ├──┼───────────░────»\n",
       "«                  ░    └───┘  │  └───┘  │  └───┘       │  └───┘  │           ░    »\n",
       "«          w_3: ───░───────────┼─────────■──────────────┼─────────■───────────░────»\n",
       "«                  ░    ┌───┐  │  ┌───┐  │  ┌───┐       │  ┌───┐  │           ░    »\n",
       "«          p_0: ───░────┤ X ├──■──┤ X ├──┼──┤ X ├───────■──┤ X ├──┼───────────░────»\n",
       "«                  ░    └───┘  │  └───┘  │  └───┘       │  └───┘  │           ░    »\n",
       "«          p_1: ───░───────────┼─────────■──────────────┼─────────■───────────░────»\n",
       "«                  ░         ┌─┴─┐       │            ┌─┴─┐       │           ░    »\n",
       "«bit_matches_0: ───░─────────┤ X ├───────┼────■───────┤ X ├───────┼───────────░────»\n",
       "«                  ░         └───┘     ┌─┴─┐  │       └───┘     ┌─┴─┐         ░    »\n",
       "«bit_matches_1: ───░───────────────────┤ X ├──■─────────────────┤ X ├─────────░────»\n",
       "«                  ░                   └───┘┌─┴─┐               └───┘         ░    »\n",
       "«        match: ───░────────────────────────┤ X ├─────────────────────────────░────»\n",
       "«                  ░                        └───┘                             ░    »\n",
       "«          c: 2/═══════════════════════════════════════════════════════════════════»\n",
       "«                                                                                  »\n",
       "«                Diffusion start ┌───┐┌───┐     ┌───┐┌───┐ Oracle start  00 St. ┌───┐          »\n",
       "«     s_list_0: ────────░────────┤ H ├┤ X ├──■──┤ X ├┤ H ├──────░──────────░────┤ X ├──■───────»\n",
       "«                       ░        ├───┤├───┤  │  ├───┤├───┤      ░          ░    ├───┤  │       »\n",
       "«     s_list_1: ────────░────────┤ H ├┤ X ├──■──┤ X ├┤ H ├──────░──────────░────┤ X ├──■───────»\n",
       "«                       ░        └───┘└───┘  │  └───┘└───┘      ░          ░    ├───┤  │  ┌───┐»\n",
       "«          w_0: ────────░────────────────────┼──────────────────░──────────░────┤ X ├──■──┤ X ├»\n",
       "«                       ░                    │                  ░          ░    └───┘  │  └───┘»\n",
       "«          w_1: ────────░────────────────────┼──────────────────░──────────░───────────┼───────»\n",
       "«                       ░                    │                  ░          ░           │       »\n",
       "«          w_2: ────────░────────────────────┼──────────────────░──────────░───────────┼───────»\n",
       "«                       ░                    │                  ░          ░           │       »\n",
       "«          w_3: ────────░────────────────────┼──────────────────░──────────░───────────┼───────»\n",
       "«                       ░                    │                  ░          ░    ┌───┐  │  ┌───┐»\n",
       "«          p_0: ────────░────────────────────┼──────────────────░──────────░────┤ X ├──■──┤ X ├»\n",
       "«                       ░                    │                  ░          ░    └───┘  │  └───┘»\n",
       "«          p_1: ────────░────────────────────┼──────────────────░──────────░───────────┼───────»\n",
       "«                       ░                    │                  ░          ░         ┌─┴─┐     »\n",
       "«bit_matches_0: ────────░────────────────────┼──────────────────░──────────░─────────┤ X ├─────»\n",
       "«                       ░                    │                  ░          ░         └───┘     »\n",
       "«bit_matches_1: ────────░────────────────────┼──────────────────░──────────░───────────────────»\n",
       "«                       ░                  ┌─┴─┐┌───┐           ░          ░                   »\n",
       "«        match: ────────░──────────────────┤ X ├┤ Z ├───────────░──────────░───────────────────»\n",
       "«                       ░                  └───┘└───┘           ░          ░                   »\n",
       "«          c: 2/═══════════════════════════════════════════════════════════════════════════════»\n",
       "«                                                                                              »\n",
       "«                    ┌───┐┌───┐               ┌───┐ 00 End.  01 St. ┌───┐               ┌───┐┌───┐»\n",
       "«     s_list_0: ──■──┤ X ├┤ X ├──■─────────■──┤ X ├────░───────░────┤ X ├──■─────────■──┤ X ├┤ X ├»\n",
       "«                 │  ├───┤├───┤  │         │  ├───┤    ░       ░    └───┘  │         │  └───┘└───┘»\n",
       "«     s_list_1: ──■──┤ X ├┤ X ├──■─────────■──┤ X ├────░───────░───────────■─────────■────────────»\n",
       "«                 │  ├───┤└───┘  │  ┌───┐  │  └───┘    ░       ░           │         │            »\n",
       "«          w_0: ──┼──┤ X ├───────■──┤ X ├──┼───────────░───────░───────────┼─────────┼────────────»\n",
       "«                 │  └───┘       │  └───┘  │           ░       ░    ┌───┐  │  ┌───┐  │  ┌───┐     »\n",
       "«          w_1: ──■──────────────┼─────────■───────────░───────░────┤ X ├──■──┤ X ├──┼──┤ X ├─────»\n",
       "«                 │              │         │           ░       ░    └───┘  │  └───┘  │  └───┘     »\n",
       "«          w_2: ──┼──────────────┼─────────┼───────────░───────░───────────┼─────────■────────────»\n",
       "«                 │              │         │           ░       ░           │         │            »\n",
       "«          w_3: ──┼──────────────┼─────────┼───────────░───────░───────────┼─────────┼────────────»\n",
       "«                 │  ┌───┐       │  ┌───┐  │           ░       ░    ┌───┐  │  ┌───┐  │  ┌───┐     »\n",
       "«          p_0: ──┼──┤ X ├───────■──┤ X ├──┼───────────░───────░────┤ X ├──■──┤ X ├──┼──┤ X ├─────»\n",
       "«                 │  └───┘       │  └───┘  │           ░       ░    └───┘  │  └───┘  │  └───┘     »\n",
       "«          p_1: ──■──────────────┼─────────■───────────░───────░───────────┼─────────■────────────»\n",
       "«                 │            ┌─┴─┐       │           ░       ░         ┌─┴─┐       │            »\n",
       "«bit_matches_0: ──┼────■───────┤ X ├───────┼───────────░───────░─────────┤ X ├───────┼────■───────»\n",
       "«               ┌─┴─┐  │       └───┘     ┌─┴─┐         ░       ░         └───┘     ┌─┴─┐  │       »\n",
       "«bit_matches_1: ┤ X ├──■─────────────────┤ X ├─────────░───────░───────────────────┤ X ├──■───────»\n",
       "«               └───┘┌─┴─┐               └───┘         ░       ░                   └───┘┌─┴─┐     »\n",
       "«        match: ─────┤ X ├─────────────────────────────░───────░────────────────────────┤ X ├─────»\n",
       "«                    └───┘                             ░       ░                        └───┘     »\n",
       "«          c: 2/══════════════════════════════════════════════════════════════════════════════════»\n",
       "«                                                                                                 »\n",
       "«                              ┌───┐ 01 End.  10 St.                                              »\n",
       "«     s_list_0: ──■─────────■──┤ X ├────░───────░───────────■─────────■──────────────■─────────■──»\n",
       "«                 │         │  └───┘    ░       ░    ┌───┐  │         │  ┌───┐┌───┐  │         │  »\n",
       "«     s_list_1: ──■─────────■───────────░───────░────┤ X ├──■─────────■──┤ X ├┤ X ├──■─────────■──»\n",
       "«                 │         │           ░       ░    └───┘  │         │  └───┘└───┘  │         │  »\n",
       "«          w_0: ──┼─────────┼───────────░───────░───────────┼─────────┼──────────────┼─────────┼──»\n",
       "«                 │  ┌───┐  │           ░       ░           │         │              │         │  »\n",
       "«          w_1: ──■──┤ X ├──┼───────────░───────░───────────┼─────────┼──────────────┼─────────┼──»\n",
       "«                 │  └───┘  │           ░       ░    ┌───┐  │  ┌───┐  │  ┌───┐       │  ┌───┐  │  »\n",
       "«          w_2: ──┼─────────■───────────░───────░────┤ X ├──■──┤ X ├──┼──┤ X ├───────■──┤ X ├──┼──»\n",
       "«                 │         │           ░       ░    └───┘  │  └───┘  │  └───┘       │  └───┘  │  »\n",
       "«          w_3: ──┼─────────┼───────────░───────░───────────┼─────────■──────────────┼─────────■──»\n",
       "«                 │  ┌───┐  │           ░       ░    ┌───┐  │  ┌───┐  │  ┌───┐       │  ┌───┐  │  »\n",
       "«          p_0: ──■──┤ X ├──┼───────────░───────░────┤ X ├──■──┤ X ├──┼──┤ X ├───────■──┤ X ├──┼──»\n",
       "«                 │  └───┘  │           ░       ░    └───┘  │  └───┘  │  └───┘       │  └───┘  │  »\n",
       "«          p_1: ──┼─────────■───────────░───────░───────────┼─────────■──────────────┼─────────■──»\n",
       "«               ┌─┴─┐       │           ░       ░         ┌─┴─┐       │            ┌─┴─┐       │  »\n",
       "«bit_matches_0: ┤ X ├───────┼───────────░───────░─────────┤ X ├───────┼────■───────┤ X ├───────┼──»\n",
       "«               └───┘     ┌─┴─┐         ░       ░         └───┘     ┌─┴─┐  │       └───┘     ┌─┴─┐»\n",
       "«bit_matches_1: ──────────┤ X ├─────────░───────░───────────────────┤ X ├──■─────────────────┤ X ├»\n",
       "«                         └───┘         ░       ░                   └───┘┌─┴─┐               └───┘»\n",
       "«        match: ────────────────────────░───────░────────────────────────┤ X ├────────────────────»\n",
       "«                                       ░       ░                        └───┘                    »\n",
       "«          c: 2/══════════════════════════════════════════════════════════════════════════════════»\n",
       "«                                                                                                 »\n",
       "«                     10 End.  Diffusion start ┌───┐┌───┐     ┌───┐┌───┐┌─┐   \n",
       "«     s_list_0: ─────────░────────────░────────┤ H ├┤ X ├──■──┤ X ├┤ H ├┤M├───\n",
       "«               ┌───┐    ░            ░        ├───┤├───┤  │  ├───┤├───┤└╥┘┌─┐\n",
       "«     s_list_1: ┤ X ├────░────────────░────────┤ H ├┤ X ├──■──┤ X ├┤ H ├─╫─┤M├\n",
       "«               └───┘    ░            ░        └───┘└───┘  │  └───┘└───┘ ║ └╥┘\n",
       "«          w_0: ─────────░────────────░────────────────────┼─────────────╫──╫─\n",
       "«                        ░            ░                    │             ║  ║ \n",
       "«          w_1: ─────────░────────────░────────────────────┼─────────────╫──╫─\n",
       "«                        ░            ░                    │             ║  ║ \n",
       "«          w_2: ─────────░────────────░────────────────────┼─────────────╫──╫─\n",
       "«                        ░            ░                    │             ║  ║ \n",
       "«          w_3: ─────────░────────────░────────────────────┼─────────────╫──╫─\n",
       "«                        ░            ░                    │             ║  ║ \n",
       "«          p_0: ─────────░────────────░────────────────────┼─────────────╫──╫─\n",
       "«                        ░            ░                    │             ║  ║ \n",
       "«          p_1: ─────────░────────────░────────────────────┼─────────────╫──╫─\n",
       "«                        ░            ░                    │             ║  ║ \n",
       "«bit_matches_0: ─────────░────────────░────────────────────┼─────────────╫──╫─\n",
       "«                        ░            ░                    │             ║  ║ \n",
       "«bit_matches_1: ─────────░────────────░────────────────────┼─────────────╫──╫─\n",
       "«                        ░            ░                  ┌─┴─┐┌───┐      ║  ║ \n",
       "«        match: ─────────░────────────░──────────────────┤ X ├┤ Z ├──────╫──╫─\n",
       "«                        ░            ░                  └───┘└───┘      ║  ║ \n",
       "«          c: 2/═════════════════════════════════════════════════════════╩══╩═\n",
       "«                                                                        0  1 </pre>"
      ],
      "text/plain": [
       "               ┌───┐ Oracle start  00 St. ┌───┐               ┌───┐┌───┐               ┌───┐»\n",
       "     s_list_0: ┤ H ├──────░──────────░────┤ X ├──■─────────■──┤ X ├┤ X ├──■─────────■──┤ X ├»\n",
       "               ├───┤      ░          ░    ├───┤  │         │  ├───┤├───┤  │         │  ├───┤»\n",
       "     s_list_1: ┤ H ├──────░──────────░────┤ X ├──■─────────■──┤ X ├┤ X ├──■─────────■──┤ X ├»\n",
       "               ├───┤      ░          ░    ├───┤  │  ┌───┐  │  ├───┤└───┘  │  ┌───┐  │  └───┘»\n",
       "          w_0: ┤ X ├──────░──────────░────┤ X ├──■──┤ X ├──┼──┤ X ├───────■──┤ X ├──┼───────»\n",
       "               ├───┤      ░          ░    └───┘  │  └───┘  │  └───┘       │  └───┘  │       »\n",
       "          w_1: ┤ X ├──────░──────────░───────────┼─────────■──────────────┼─────────■───────»\n",
       "               └───┘      ░          ░           │         │              │         │       »\n",
       "          w_2: ───────────░──────────░───────────┼─────────┼──────────────┼─────────┼───────»\n",
       "               ┌───┐      ░          ░           │         │              │         │       »\n",
       "          w_3: ┤ X ├──────░──────────░───────────┼─────────┼──────────────┼─────────┼───────»\n",
       "               └───┘      ░          ░    ┌───┐  │  ┌───┐  │  ┌───┐       │  ┌───┐  │       »\n",
       "          p_0: ───────────░──────────░────┤ X ├──■──┤ X ├──┼──┤ X ├───────■──┤ X ├──┼───────»\n",
       "               ┌───┐      ░          ░    └───┘  │  └───┘  │  └───┘       │  └───┘  │       »\n",
       "          p_1: ┤ X ├──────░──────────░───────────┼─────────■──────────────┼─────────■───────»\n",
       "               └───┘      ░          ░         ┌─┴─┐       │            ┌─┴─┐       │       »\n",
       "bit_matches_0: ───────────░──────────░─────────┤ X ├───────┼────■───────┤ X ├───────┼───────»\n",
       "                          ░          ░         └───┘     ┌─┴─┐  │       └───┘     ┌─┴─┐     »\n",
       "bit_matches_1: ───────────░──────────░───────────────────┤ X ├──■─────────────────┤ X ├─────»\n",
       "                          ░          ░                   └───┘┌─┴─┐               └───┘     »\n",
       "        match: ───────────░──────────░────────────────────────┤ X ├─────────────────────────»\n",
       "                          ░          ░                        └───┘                         »\n",
       "          c: 2/═════════════════════════════════════════════════════════════════════════════»\n",
       "                                                                                            »\n",
       "«                00 End.  01 St. ┌───┐               ┌───┐┌───┐               ┌───┐ 01 End. »\n",
       "«     s_list_0: ────░───────░────┤ X ├──■─────────■──┤ X ├┤ X ├──■─────────■──┤ X ├────░────»\n",
       "«                   ░       ░    └───┘  │         │  └───┘└───┘  │         │  └───┘    ░    »\n",
       "«     s_list_1: ────░───────░───────────■─────────■──────────────■─────────■───────────░────»\n",
       "«                   ░       ░           │         │              │         │           ░    »\n",
       "«          w_0: ────░───────░───────────┼─────────┼──────────────┼─────────┼───────────░────»\n",
       "«                   ░       ░    ┌───┐  │  ┌───┐  │  ┌───┐       │  ┌───┐  │           ░    »\n",
       "«          w_1: ────░───────░────┤ X ├──■──┤ X ├──┼──┤ X ├───────■──┤ X ├──┼───────────░────»\n",
       "«                   ░       ░    └───┘  │  └───┘  │  └───┘       │  └───┘  │           ░    »\n",
       "«          w_2: ────░───────░───────────┼─────────■──────────────┼─────────■───────────░────»\n",
       "«                   ░       ░           │         │              │         │           ░    »\n",
       "«          w_3: ────░───────░───────────┼─────────┼──────────────┼─────────┼───────────░────»\n",
       "«                   ░       ░    ┌───┐  │  ┌───┐  │  ┌───┐       │  ┌───┐  │           ░    »\n",
       "«          p_0: ────░───────░────┤ X ├──■──┤ X ├──┼──┤ X ├───────■──┤ X ├──┼───────────░────»\n",
       "«                   ░       ░    └───┘  │  └───┘  │  └───┘       │  └───┘  │           ░    »\n",
       "«          p_1: ────░───────░───────────┼─────────■──────────────┼─────────■───────────░────»\n",
       "«                   ░       ░         ┌─┴─┐       │            ┌─┴─┐       │           ░    »\n",
       "«bit_matches_0: ────░───────░─────────┤ X ├───────┼────■───────┤ X ├───────┼───────────░────»\n",
       "«                   ░       ░         └───┘     ┌─┴─┐  │       └───┘     ┌─┴─┐         ░    »\n",
       "«bit_matches_1: ────░───────░───────────────────┤ X ├──■─────────────────┤ X ├─────────░────»\n",
       "«                   ░       ░                   └───┘┌─┴─┐               └───┘         ░    »\n",
       "«        match: ────░───────░────────────────────────┤ X ├─────────────────────────────░────»\n",
       "«                   ░       ░                        └───┘                             ░    »\n",
       "«          c: 2/════════════════════════════════════════════════════════════════════════════»\n",
       "«                                                                                           »\n",
       "«                10 St.                                                    10 End. »\n",
       "«     s_list_0: ───░───────────■─────────■──────────────■─────────■───────────░────»\n",
       "«                  ░    ┌───┐  │         │  ┌───┐┌───┐  │         │  ┌───┐    ░    »\n",
       "«     s_list_1: ───░────┤ X ├──■─────────■──┤ X ├┤ X ├──■─────────■──┤ X ├────░────»\n",
       "«                  ░    └───┘  │         │  └───┘└───┘  │         │  └───┘    ░    »\n",
       "«          w_0: ───░───────────┼─────────┼──────────────┼─────────┼───────────░────»\n",
       "«                  ░           │         │              │         │           ░    »\n",
       "«          w_1: ───░───────────┼─────────┼──────────────┼─────────┼───────────░────»\n",
       "«                  ░    ┌───┐  │  ┌───┐  │  ┌───┐       │  ┌───┐  │           ░    »\n",
       "«          w_2: ───░────┤ X ├──■──┤ X ├──┼──┤ X ├───────■──┤ X ├──┼───────────░────»\n",
       "«                  ░    └───┘  │  └───┘  │  └───┘       │  └───┘  │           ░    »\n",
       "«          w_3: ───░───────────┼─────────■──────────────┼─────────■───────────░────»\n",
       "«                  ░    ┌───┐  │  ┌───┐  │  ┌───┐       │  ┌───┐  │           ░    »\n",
       "«          p_0: ───░────┤ X ├──■──┤ X ├──┼──┤ X ├───────■──┤ X ├──┼───────────░────»\n",
       "«                  ░    └───┘  │  └───┘  │  └───┘       │  └───┘  │           ░    »\n",
       "«          p_1: ───░───────────┼─────────■──────────────┼─────────■───────────░────»\n",
       "«                  ░         ┌─┴─┐       │            ┌─┴─┐       │           ░    »\n",
       "«bit_matches_0: ───░─────────┤ X ├───────┼────■───────┤ X ├───────┼───────────░────»\n",
       "«                  ░         └───┘     ┌─┴─┐  │       └───┘     ┌─┴─┐         ░    »\n",
       "«bit_matches_1: ───░───────────────────┤ X ├──■─────────────────┤ X ├─────────░────»\n",
       "«                  ░                   └───┘┌─┴─┐               └───┘         ░    »\n",
       "«        match: ───░────────────────────────┤ X ├─────────────────────────────░────»\n",
       "«                  ░                        └───┘                             ░    »\n",
       "«          c: 2/═══════════════════════════════════════════════════════════════════»\n",
       "«                                                                                  »\n",
       "«                Diffusion start ┌───┐┌───┐     ┌───┐┌───┐ Oracle start  00 St. ┌───┐          »\n",
       "«     s_list_0: ────────░────────┤ H ├┤ X ├──■──┤ X ├┤ H ├──────░──────────░────┤ X ├──■───────»\n",
       "«                       ░        ├───┤├───┤  │  ├───┤├───┤      ░          ░    ├───┤  │       »\n",
       "«     s_list_1: ────────░────────┤ H ├┤ X ├──■──┤ X ├┤ H ├──────░──────────░────┤ X ├──■───────»\n",
       "«                       ░        └───┘└───┘  │  └───┘└───┘      ░          ░    ├───┤  │  ┌───┐»\n",
       "«          w_0: ────────░────────────────────┼──────────────────░──────────░────┤ X ├──■──┤ X ├»\n",
       "«                       ░                    │                  ░          ░    └───┘  │  └───┘»\n",
       "«          w_1: ────────░────────────────────┼──────────────────░──────────░───────────┼───────»\n",
       "«                       ░                    │                  ░          ░           │       »\n",
       "«          w_2: ────────░────────────────────┼──────────────────░──────────░───────────┼───────»\n",
       "«                       ░                    │                  ░          ░           │       »\n",
       "«          w_3: ────────░────────────────────┼──────────────────░──────────░───────────┼───────»\n",
       "«                       ░                    │                  ░          ░    ┌───┐  │  ┌───┐»\n",
       "«          p_0: ────────░────────────────────┼──────────────────░──────────░────┤ X ├──■──┤ X ├»\n",
       "«                       ░                    │                  ░          ░    └───┘  │  └───┘»\n",
       "«          p_1: ────────░────────────────────┼──────────────────░──────────░───────────┼───────»\n",
       "«                       ░                    │                  ░          ░         ┌─┴─┐     »\n",
       "«bit_matches_0: ────────░────────────────────┼──────────────────░──────────░─────────┤ X ├─────»\n",
       "«                       ░                    │                  ░          ░         └───┘     »\n",
       "«bit_matches_1: ────────░────────────────────┼──────────────────░──────────░───────────────────»\n",
       "«                       ░                  ┌─┴─┐┌───┐           ░          ░                   »\n",
       "«        match: ────────░──────────────────┤ X ├┤ Z ├───────────░──────────░───────────────────»\n",
       "«                       ░                  └───┘└───┘           ░          ░                   »\n",
       "«          c: 2/═══════════════════════════════════════════════════════════════════════════════»\n",
       "«                                                                                              »\n",
       "«                    ┌───┐┌───┐               ┌───┐ 00 End.  01 St. ┌───┐               ┌───┐┌───┐»\n",
       "«     s_list_0: ──■──┤ X ├┤ X ├──■─────────■──┤ X ├────░───────░────┤ X ├──■─────────■──┤ X ├┤ X ├»\n",
       "«                 │  ├───┤├───┤  │         │  ├───┤    ░       ░    └───┘  │         │  └───┘└───┘»\n",
       "«     s_list_1: ──■──┤ X ├┤ X ├──■─────────■──┤ X ├────░───────░───────────■─────────■────────────»\n",
       "«                 │  ├───┤└───┘  │  ┌───┐  │  └───┘    ░       ░           │         │            »\n",
       "«          w_0: ──┼──┤ X ├───────■──┤ X ├──┼───────────░───────░───────────┼─────────┼────────────»\n",
       "«                 │  └───┘       │  └───┘  │           ░       ░    ┌───┐  │  ┌───┐  │  ┌───┐     »\n",
       "«          w_1: ──■──────────────┼─────────■───────────░───────░────┤ X ├──■──┤ X ├──┼──┤ X ├─────»\n",
       "«                 │              │         │           ░       ░    └───┘  │  └───┘  │  └───┘     »\n",
       "«          w_2: ──┼──────────────┼─────────┼───────────░───────░───────────┼─────────■────────────»\n",
       "«                 │              │         │           ░       ░           │         │            »\n",
       "«          w_3: ──┼──────────────┼─────────┼───────────░───────░───────────┼─────────┼────────────»\n",
       "«                 │  ┌───┐       │  ┌───┐  │           ░       ░    ┌───┐  │  ┌───┐  │  ┌───┐     »\n",
       "«          p_0: ──┼──┤ X ├───────■──┤ X ├──┼───────────░───────░────┤ X ├──■──┤ X ├──┼──┤ X ├─────»\n",
       "«                 │  └───┘       │  └───┘  │           ░       ░    └───┘  │  └───┘  │  └───┘     »\n",
       "«          p_1: ──■──────────────┼─────────■───────────░───────░───────────┼─────────■────────────»\n",
       "«                 │            ┌─┴─┐       │           ░       ░         ┌─┴─┐       │            »\n",
       "«bit_matches_0: ──┼────■───────┤ X ├───────┼───────────░───────░─────────┤ X ├───────┼────■───────»\n",
       "«               ┌─┴─┐  │       └───┘     ┌─┴─┐         ░       ░         └───┘     ┌─┴─┐  │       »\n",
       "«bit_matches_1: ┤ X ├──■─────────────────┤ X ├─────────░───────░───────────────────┤ X ├──■───────»\n",
       "«               └───┘┌─┴─┐               └───┘         ░       ░                   └───┘┌─┴─┐     »\n",
       "«        match: ─────┤ X ├─────────────────────────────░───────░────────────────────────┤ X ├─────»\n",
       "«                    └───┘                             ░       ░                        └───┘     »\n",
       "«          c: 2/══════════════════════════════════════════════════════════════════════════════════»\n",
       "«                                                                                                 »\n",
       "«                              ┌───┐ 01 End.  10 St.                                              »\n",
       "«     s_list_0: ──■─────────■──┤ X ├────░───────░───────────■─────────■──────────────■─────────■──»\n",
       "«                 │         │  └───┘    ░       ░    ┌───┐  │         │  ┌───┐┌───┐  │         │  »\n",
       "«     s_list_1: ──■─────────■───────────░───────░────┤ X ├──■─────────■──┤ X ├┤ X ├──■─────────■──»\n",
       "«                 │         │           ░       ░    └───┘  │         │  └───┘└───┘  │         │  »\n",
       "«          w_0: ──┼─────────┼───────────░───────░───────────┼─────────┼──────────────┼─────────┼──»\n",
       "«                 │  ┌───┐  │           ░       ░           │         │              │         │  »\n",
       "«          w_1: ──■──┤ X ├──┼───────────░───────░───────────┼─────────┼──────────────┼─────────┼──»\n",
       "«                 │  └───┘  │           ░       ░    ┌───┐  │  ┌───┐  │  ┌───┐       │  ┌───┐  │  »\n",
       "«          w_2: ──┼─────────■───────────░───────░────┤ X ├──■──┤ X ├──┼──┤ X ├───────■──┤ X ├──┼──»\n",
       "«                 │         │           ░       ░    └───┘  │  └───┘  │  └───┘       │  └───┘  │  »\n",
       "«          w_3: ──┼─────────┼───────────░───────░───────────┼─────────■──────────────┼─────────■──»\n",
       "«                 │  ┌───┐  │           ░       ░    ┌───┐  │  ┌───┐  │  ┌───┐       │  ┌───┐  │  »\n",
       "«          p_0: ──■──┤ X ├──┼───────────░───────░────┤ X ├──■──┤ X ├──┼──┤ X ├───────■──┤ X ├──┼──»\n",
       "«                 │  └───┘  │           ░       ░    └───┘  │  └───┘  │  └───┘       │  └───┘  │  »\n",
       "«          p_1: ──┼─────────■───────────░───────░───────────┼─────────■──────────────┼─────────■──»\n",
       "«               ┌─┴─┐       │           ░       ░         ┌─┴─┐       │            ┌─┴─┐       │  »\n",
       "«bit_matches_0: ┤ X ├───────┼───────────░───────░─────────┤ X ├───────┼────■───────┤ X ├───────┼──»\n",
       "«               └───┘     ┌─┴─┐         ░       ░         └───┘     ┌─┴─┐  │       └───┘     ┌─┴─┐»\n",
       "«bit_matches_1: ──────────┤ X ├─────────░───────░───────────────────┤ X ├──■─────────────────┤ X ├»\n",
       "«                         └───┘         ░       ░                   └───┘┌─┴─┐               └───┘»\n",
       "«        match: ────────────────────────░───────░────────────────────────┤ X ├────────────────────»\n",
       "«                                       ░       ░                        └───┘                    »\n",
       "«          c: 2/══════════════════════════════════════════════════════════════════════════════════»\n",
       "«                                                                                                 »\n",
       "«                     10 End.  Diffusion start ┌───┐┌───┐     ┌───┐┌───┐┌─┐   \n",
       "«     s_list_0: ─────────░────────────░────────┤ H ├┤ X ├──■──┤ X ├┤ H ├┤M├───\n",
       "«               ┌───┐    ░            ░        ├───┤├───┤  │  ├───┤├───┤└╥┘┌─┐\n",
       "«     s_list_1: ┤ X ├────░────────────░────────┤ H ├┤ X ├──■──┤ X ├┤ H ├─╫─┤M├\n",
       "«               └───┘    ░            ░        └───┘└───┘  │  └───┘└───┘ ║ └╥┘\n",
       "«          w_0: ─────────░────────────░────────────────────┼─────────────╫──╫─\n",
       "«                        ░            ░                    │             ║  ║ \n",
       "«          w_1: ─────────░────────────░────────────────────┼─────────────╫──╫─\n",
       "«                        ░            ░                    │             ║  ║ \n",
       "«          w_2: ─────────░────────────░────────────────────┼─────────────╫──╫─\n",
       "«                        ░            ░                    │             ║  ║ \n",
       "«          w_3: ─────────░────────────░────────────────────┼─────────────╫──╫─\n",
       "«                        ░            ░                    │             ║  ║ \n",
       "«          p_0: ─────────░────────────░────────────────────┼─────────────╫──╫─\n",
       "«                        ░            ░                    │             ║  ║ \n",
       "«          p_1: ─────────░────────────░────────────────────┼─────────────╫──╫─\n",
       "«                        ░            ░                    │             ║  ║ \n",
       "«bit_matches_0: ─────────░────────────░────────────────────┼─────────────╫──╫─\n",
       "«                        ░            ░                    │             ║  ║ \n",
       "«bit_matches_1: ─────────░────────────░────────────────────┼─────────────╫──╫─\n",
       "«                        ░            ░                  ┌─┴─┐┌───┐      ║  ║ \n",
       "«        match: ─────────░────────────░──────────────────┤ X ├┤ Z ├──────╫──╫─\n",
       "«                        ░            ░                  └───┘└───┘      ║  ║ \n",
       "«          c: 2/═════════════════════════════════════════════════════════╩══╩═\n",
       "«                                                                        0  1 "
      ]
     },
     "execution_count": 34,
     "metadata": {},
     "output_type": "execute_result"
    }
   ],
   "source": [
    "qc.draw(fold=100)"
   ]
  },
  {
   "cell_type": "markdown",
   "metadata": {},
   "source": [
    "\n",
    "---\n"
   ]
  },
  {
   "cell_type": "markdown",
   "metadata": {},
   "source": [
    "Now, let's see the limits of the implementation. We'll try to search for a pattern of length 2 in a string of length 8. We'll also try the code with more than one occurrence of $p$ inside $w$.\n",
    "\n",
    "Lets re-define $w$, and $p$"
   ]
  },
  {
   "cell_type": "code",
   "execution_count": 36,
   "metadata": {
    "ExecuteTime": {
     "end_time": "2023-06-07T18:37:29.181756Z",
     "start_time": "2023-06-07T18:37:29.158189Z"
    }
   },
   "outputs": [],
   "source": [
    "inp_w = \"10110001\"\n",
    "inp_p = \"01\"\n",
    "n = len(inp_w)\n",
    "m = len(inp_p)"
   ]
  },
  {
   "cell_type": "code",
   "execution_count": 37,
   "metadata": {
    "ExecuteTime": {
     "end_time": "2023-06-07T18:37:29.648650Z",
     "start_time": "2023-06-07T18:37:29.644345Z"
    }
   },
   "outputs": [],
   "source": [
    "assert n >= m, \"n must be greater than m\"\n",
    "assert m >= 1, \"m must be greater than 0\"\n",
    "assert 2 ** int(math.log2(n)) == n, \"n must be a power of 2\"\n",
    "assert 2 ** int(math.log2(m)) == m, \"m must be a power of 2\""
   ]
  },
  {
   "cell_type": "code",
   "execution_count": 38,
   "metadata": {
    "ExecuteTime": {
     "end_time": "2023-06-07T18:37:33.654225Z",
     "start_time": "2023-06-07T18:37:33.618223Z"
    }
   },
   "outputs": [],
   "source": [
    "num_sbits = math.ceil(math.log2(n - m)) + 1 # Number of bits required for s to encode all possible start indexes of matches\n",
    "\n",
    "s = QuantumRegister(num_sbits, 's_list')\n",
    "#s_chunks = list(list_to_chunks(s_list, num_sbits))\n",
    "w = QuantumRegister(n, 'w') # w is the string to be searched\n",
    "p = QuantumRegister(m, 'p') # p is the pattern to be searched in w\n",
    "bit_matches = QuantumRegister(m, 'bit_matches') # bit_matches is the intermediate qubits to store the individual constraints\n",
    "match = QuantumRegister(1, 'match') # match is the final qubit to store the result of the oracle\n",
    "\n",
    "qc = QuantumCircuit(s, w, p, bit_matches, match) # all qubits will have starting state of |0>"
   ]
  },
  {
   "cell_type": "code",
   "execution_count": 39,
   "metadata": {
    "ExecuteTime": {
     "end_time": "2023-06-07T18:38:51.641959Z",
     "start_time": "2023-06-07T18:38:51.625662Z"
    }
   },
   "outputs": [],
   "source": [
    "set_inputs(qc, inp_w, inp_p)\n",
    "initialize_s(qc)\n",
    "\n",
    "num_repetitions = int(math.sqrt(2 ** num_sbits))\n",
    "for repetition in range(num_repetitions):\n",
    "    for start_pos in range(n - m + 1):\n",
    "        oracle(qc, start_pos)\n",
    "        qc.mcx(bit_matches, match)\n",
    "        oracle(qc, start_pos)\n",
    "    diffusion(qc)\n",
    "\n",
    "measurement_s(qc)"
   ]
  },
  {
   "cell_type": "code",
   "execution_count": 40,
   "metadata": {
    "ExecuteTime": {
     "end_time": "2023-06-07T18:39:18.946507Z",
     "start_time": "2023-06-07T18:38:54.303564Z"
    }
   },
   "outputs": [
    {
     "data": {
      "image/png": "[encoded data removed]",
      "text/plain": [
       "<Figure size 504x360 with 1 Axes>"
      ]
     },
     "execution_count": 40,
     "metadata": {},
     "output_type": "execute_result"
    }
   ],
   "source": [
    "import time\n",
    "\n",
    "start_time = time.monotonic()\n",
    "\n",
    "counts = execute_on_sim(qc, num_shots=1000)\n",
    "plot_histogram(counts)"
   ]
  },
  {
   "cell_type": "code",
   "execution_count": 41,
   "metadata": {
    "ExecuteTime": {
     "end_time": "2023-06-07T18:39:18.950661Z",
     "start_time": "2023-06-07T18:39:18.946878Z"
    }
   },
   "outputs": [
    {
     "name": "stdout",
     "output_type": "stream",
     "text": [
      "Elapsed seconds(For 1000 shots on simulator):  24.643854654999814\n"
     ]
    }
   ],
   "source": [
    "# Keep in mind that we are using IBM's simulator, and it is on their backend.\n",
    "print('Elapsed seconds(For 1000 shots on simulator): ', time.monotonic() - start_time)"
   ]
  },
  {
   "cell_type": "markdown",
   "metadata": {},
   "source": [
    "It is clearly visible that the states $0001$(1 in decimal) and $0110$(6 in decimal) is the most probable states, which are the correct answers for our input $w$ = \"10110001\" and $p$ = \"01\"."
   ]
  }
 ],
 "metadata": {
  "kernelspec": {
   "display_name": "Python 3",
   "language": "python",
   "name": "python3"
  },
  "language_info": {
   "codemirror_mode": {
    "name": "ipython",
    "version": 3
   },
   "file_extension": ".py",
   "mimetype": "text/x-python",
   "name": "python",
   "nbconvert_exporter": "python",
   "pygments_lexer": "ipython3",
   "version": "3.9.15"
  }
 },
 "nbformat": 4,
 "nbformat_minor": 1
}
