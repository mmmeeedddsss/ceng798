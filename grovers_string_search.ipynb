{
 "cells": [
  {
   "cell_type": "markdown",
   "source": [
    "# Ceng 798 - Quantum Computing Project\n",
    "## Grover's Algorithm for String Matching\n",
    "### Mert Tunc - 2023 Spring\n"
   ],
   "metadata": {
    "collapsed": false
   }
  },
  {
   "cell_type": "markdown",
   "source": [
    "In this project, we will implement [Grover's algorithm](https://learn.qiskit.org/course/ch-algorithms/grovers-algorithm) for string matching. The problem is defined as follows:\n",
    "Given a string $w$ of length $n$ and a pattern $p$ of length $m$, find all the starting positions of $p$ in $w$.\n",
    "\n",
    "In the linerature, there are three papers claiming they solved the string matching problem with the help of Grover's algorithm. The first one is [1] and the second one is [2].\n",
    "\n",
    "In this project, I tried to implement a similar and a novel way of solving the string matching problem with the Grover's algorithm.\n",
    "\n",
    "[1] https://doi.org/10.1038/s41534-021-00369-3\n",
    "[2] https://www.sciencedirect.com/science/article/pii/S1570866703000108"
   ],
   "metadata": {
    "collapsed": false
   }
  },
  {
   "cell_type": "markdown",
   "source": [
    "So first, let us define the imports we'll use,"
   ],
   "metadata": {
    "collapsed": false
   }
  },
  {
   "cell_type": "code",
   "execution_count": 1,
   "outputs": [
    {
     "name": "stderr",
     "output_type": "stream",
     "text": [
      "<ipython-input-1-68b6ef7fdd55>:10: DeprecationWarning: The package qiskit.providers.ibmq is being deprecated. Please see https://ibm.biz/provider_migration_guide to get instructions on how to migrate to qiskit-ibm-provider (https://github.com/Qiskit/qiskit-ibm-provider) and qiskit-ibm-runtime (https://github.com/Qiskit/qiskit-ibm-runtime).\n",
      "  provider = IBMQ.load_account()\n",
      "<ipython-input-1-68b6ef7fdd55>:10: DeprecationWarning: The qiskit.IBMQ entrypoint and the qiskit-ibmq-provider package (accessible from 'qiskit.providers.ibmq`) are deprecated and will be removed in a future release. Instead you should use the qiskit-ibm-provider package which is accessible from 'qiskit_ibm_provider'. You can install it with 'pip install qiskit_ibm_provider'. Just replace 'qiskit.IBMQ' with 'qiskit_ibm_provider.IBMProvider'\n",
      "  provider = IBMQ.load_account()\n"
     ]
    }
   ],
   "source": [
    "%matplotlib inline\n",
    "import matplotlib.pyplot as plt\n",
    "import math\n",
    "\n",
    "from qiskit.visualization import plot_histogram\n",
    "from qiskit import transpile\n",
    "from qiskit import QuantumCircuit, QuantumRegister\n",
    "from qiskit import IBMQ\n",
    "\n",
    "provider = IBMQ.load_account()"
   ],
   "metadata": {
    "collapsed": false,
    "ExecuteTime": {
     "end_time": "2023-06-07T13:27:17.606534Z",
     "start_time": "2023-06-07T13:26:53.403863Z"
    }
   }
  },
  {
   "cell_type": "markdown",
   "source": [
    "And define the variables we'll use,\n",
    "as in the original statement, we have $w$ and $p$ as the string and the pattern respectively.\n",
    "\n",
    "In the implementation, it is assumed that the $n$ and $m$ have a length of power 2."
   ],
   "metadata": {
    "collapsed": false
   }
  },
  {
   "cell_type": "code",
   "execution_count": 2,
   "outputs": [],
   "source": [
    "inp_w = \"1101\"\n",
    "inp_p = \"01\""
   ],
   "metadata": {
    "collapsed": false,
    "ExecuteTime": {
     "end_time": "2023-06-07T13:27:17.610287Z",
     "start_time": "2023-06-07T13:27:17.608151Z"
    }
   }
  },
  {
   "cell_type": "code",
   "execution_count": 3,
   "outputs": [],
   "source": [
    "n = len(inp_w)\n",
    "m = len(inp_p)"
   ],
   "metadata": {
    "collapsed": false,
    "ExecuteTime": {
     "end_time": "2023-06-07T13:27:17.614215Z",
     "start_time": "2023-06-07T13:27:17.612561Z"
    }
   }
  },
  {
   "cell_type": "code",
   "execution_count": 4,
   "outputs": [],
   "source": [
    "assert n >= m, \"n must be greater than m\"\n",
    "assert m >= 1, \"m must be greater than 0\"\n",
    "assert 2 ** int(math.log2(n)) == n, \"n must be a power of 2\"\n",
    "assert 2 ** int(math.log2(m)) == m, \"m must be a power of 2\""
   ],
   "metadata": {
    "collapsed": false,
    "ExecuteTime": {
     "end_time": "2023-06-07T13:27:17.630014Z",
     "start_time": "2023-06-07T13:27:17.616910Z"
    }
   }
  },
  {
   "cell_type": "markdown",
   "source": [
    "Now, we need to start implementing the actual solution. For the above examples, we see that the match occurs starting from the 2nd index of $w$, represented as $10$ in binary.\n",
    "\n",
    "Grover's search algorithm shares a framework with us on how to implement unstructured search with a time complexity of $O(\\sqrt{n})$\n",
    "\n",
    "The framework is as follows:\n",
    "- Initialize the state $|s\\rangle$ to a uniform superposition of all possible states.\n",
    "- Repeat the following steps $O(\\sqrt{n})$ times:\n",
    "    - Apply the oracle $U_f$ to the state $|s\\rangle$.\n",
    "    - Apply the diffusion operator $U_s$ to the state $|s\\rangle$.\n",
    "- Measure the state $|s\\rangle$.\n",
    "\n",
    "Following image is an illustration of the steps of Grover's Algorithm\n",
    "![Grovers Illustration](https://learn.qiskit.org/content/v2/ch-algorithms/images/grover_circuit_high_level.png)\n"
   ],
   "metadata": {
    "collapsed": false
   }
  },
  {
   "cell_type": "markdown",
   "source": [
    "In our application, the states that we want to search are consist of the starting index of the pattern in the string. For the values we defined above, we have $w = 1101$ and $p = 01$. In this input, the states we will be searching are $00, 01, 10$. The challenge in the string search, these states bring more than one constraint.\n",
    "\n",
    "So in our example $w$ and $p$, the state $01$ means that:\n",
    "- $w_1$ = $p_0$\n",
    "- $w_2$ = $p_1$"
   ],
   "metadata": {
    "collapsed": false
   }
  },
  {
   "cell_type": "markdown",
   "source": [
    "\n",
    "Generailzation of the constraints for any $w$ and $p$ is as follows:\n",
    "Given:\n",
    "- A state s in binary form representing the start position of the match and\n",
    "- A $p$ of length $k$:\n",
    "Constraints to check if the state $s$ is a match:\n",
    "- $w_{s + 0} = p_0$\n",
    "- $w_{s + 1} = p_1$\n",
    "- ...\n",
    "- $w_{s + k} = p_k$\n",
    "\n",
    "Let's implement these checks in our oracle. In addition to these constrains, we'll also need to do several things for the implementation:\n",
    "- Checking if a bit in $w$ and $p$ being equal or not requires these bits to flipped to 1 before the operation and after the operation if these bits are 0.\n",
    "- Similarly, we'll need to flip the bits of $s$ if these are 0.\n",
    "- For each constrain, we'll store the equilavence in a intermediate qubit, then use a multi controlled and gate to and all of them to a single qubit.We'll call these intermediate qubits as `bit_matches`, with a length of $p$, and the final qubit as `match`.\n"
   ],
   "metadata": {
    "collapsed": false
   }
  },
  {
   "cell_type": "markdown",
   "source": [
    "So define the circuit first and initialize the $s$ with Hadamard gates."
   ],
   "metadata": {
    "collapsed": false
   }
  },
  {
   "cell_type": "code",
   "execution_count": 5,
   "outputs": [],
   "source": [
    "num_sbits = math.ceil(math.log2(n - m)) + 1 # Number of bits required for s to encode all possible start indexes of matches\n",
    "\n",
    "s = QuantumRegister(num_sbits, 's_list')\n",
    "#s_chunks = list(list_to_chunks(s_list, num_sbits))\n",
    "w = QuantumRegister(n, 'w') # w is the string to be searched\n",
    "p = QuantumRegister(m, 'p') # p is the pattern to be searched in w\n",
    "bit_matches = QuantumRegister(m, 'bit_matches') # bit_matches is the intermediate qubits to store the individual constraints\n",
    "match = QuantumRegister(1, 'match') # match is the final qubit to store the result of the oracle\n",
    "\n",
    "qc = QuantumCircuit(s, w, p, bit_matches, match) # all qubits will have starting state of |0>"
   ],
   "metadata": {
    "collapsed": false,
    "ExecuteTime": {
     "end_time": "2023-06-07T13:27:17.630369Z",
     "start_time": "2023-06-07T13:27:17.619183Z"
    }
   }
  },
  {
   "cell_type": "code",
   "execution_count": 6,
   "outputs": [],
   "source": [
    "def set_inputs(qc, inp_w, inp_p):\n",
    "    \"\"\"Negate the initial |0> states of s correspondingly to the input w and p\"\"\"\n",
    "    for i, c in enumerate(inp_w):\n",
    "        if c == \"1\":\n",
    "            qc.x(w[i])\n",
    "\n",
    "    for i, c in enumerate(inp_p):\n",
    "        if c == \"1\":\n",
    "            qc.x(p[i])\n",
    "\n",
    "\n",
    "def initialize_s(qc):\n",
    "    \"\"\"Apply H gates to all qubits in s\"\"\"\n",
    "    qc.h(s)\n",
    "\n",
    "set_inputs(qc, inp_w, inp_p)\n",
    "initialize_s(qc)"
   ],
   "metadata": {
    "collapsed": false,
    "ExecuteTime": {
     "end_time": "2023-06-07T13:27:17.645011Z",
     "start_time": "2023-06-07T13:27:17.623382Z"
    }
   }
  },
  {
   "cell_type": "markdown",
   "source": [
    "Now, we can define an oracle that checks the constraints we defined above."
   ],
   "metadata": {
    "collapsed": false
   }
  },
  {
   "cell_type": "code",
   "execution_count": 7,
   "outputs": [],
   "source": [
    "def oracle(qc: QuantumCircuit, start_pos):\n",
    "    format_string = \"{:0\" + str(len(s)) + \"b}\"\n",
    "    pos_in_binary = format_string.format(start_pos)\n",
    "    qc.barrier(label=f\"start {pos_in_binary}\") # This is for presentation purposes\n",
    "\n",
    "    # flipped_x valiables will hold which qubits are flipped in the oracle to revert them back after the mxc gates.\n",
    "    flipped_s = []\n",
    "    for k, pos in enumerate(pos_in_binary):\n",
    "        if pos == \"0\":\n",
    "            flipped_s.append(s[k])\n",
    "            qc.x(s[k])\n",
    "\n",
    "    # Following for loop will create the $w_{s + k} = p_k$ for each bit in p\n",
    "    # offset is the k, match_bit is intermediate qubit to store the result of the constraint\n",
    "    for offset, match_bit in enumerate(bit_matches):\n",
    "        flipped_w = []\n",
    "        flipped_p = []\n",
    "\n",
    "        if inp_p[0 + offset] == \"0\":\n",
    "            flipped_p.append(p[0 + offset])\n",
    "            qc.x(p[0 + offset])\n",
    "\n",
    "            flipped_w.append(w[0 + start_pos + offset])\n",
    "            qc.x(w[0 + start_pos + offset])\n",
    "\n",
    "        # Following gate can be read as: For the current state of s , if w[start_pos + offset] and p[0 + offset] is the same\n",
    "        # Apply X gate to bit_matches[offset], to store the result of the constraint\n",
    "        qc.mcx(list(s) + [w[start_pos + offset], p[0 + offset]], bit_matches[offset])\n",
    "\n",
    "        # Revert what we flipped to have 1 in mcx inputs\n",
    "        if len(flipped_w):\n",
    "            qc.x(flipped_w)\n",
    "        if len(flipped_p):\n",
    "            qc.x(flipped_p)\n",
    "\n",
    "    if len(flipped_s):\n",
    "        qc.x(flipped_s)\n",
    "    qc.barrier(label=f\"end {pos_in_binary}\")"
   ],
   "metadata": {
    "collapsed": false,
    "ExecuteTime": {
     "end_time": "2023-06-07T13:27:17.645599Z",
     "start_time": "2023-06-07T13:27:17.634847Z"
    }
   }
  },
  {
   "cell_type": "markdown",
   "source": [
    "In addition to the oracle, we'll also need to define the diffusion operator. The diffusion operator is defined as follows:"
   ],
   "metadata": {
    "collapsed": false
   }
  },
  {
   "cell_type": "code",
   "execution_count": 8,
   "outputs": [],
   "source": [
    "def diffusion(qc: QuantumCircuit):\n",
    "    \"\"\"Apply a diffusion circuit to the register 's' in qc\"\"\"\n",
    "    qc.h(s)\n",
    "    qc.x(s)\n",
    "\n",
    "    qc.mcx(s, match)\n",
    "    qc.z(match)\n",
    "\n",
    "    qc.x(s)\n",
    "    qc.h(s)"
   ],
   "metadata": {
    "collapsed": false,
    "ExecuteTime": {
     "end_time": "2023-06-07T13:27:17.645771Z",
     "start_time": "2023-06-07T13:27:17.638647Z"
    }
   }
  },
  {
   "cell_type": "markdown",
   "source": [
    "Now, we are almost done, we need to apply these oracle and diffusion opeartors $O(\\sqrt{N})$ times, where $N$ is $\\sqrt(2*len(s))$"
   ],
   "metadata": {
    "collapsed": false
   }
  },
  {
   "cell_type": "code",
   "execution_count": 9,
   "outputs": [],
   "source": [
    "num_repetitions = int(math.sqrt(2 ** (num_sbits)))\n",
    "for repetition in range(num_repetitions):\n",
    "    for start_pos in range(n - m + 1):\n",
    "        # Apply the oracle, and then extract the match qubit if all intermediate bit_matches are 1,\n",
    "        # then apply the oracle again to revert the changes we made on bit_matches\n",
    "        oracle(qc, start_pos)\n",
    "        qc.mcx(bit_matches, match)\n",
    "        oracle(qc, start_pos)\n",
    "    # We then apply the diffusion operator to rotate all probabilities of the states around the mean.\n",
    "    diffusion(qc)"
   ],
   "metadata": {
    "collapsed": false,
    "ExecuteTime": {
     "end_time": "2023-06-07T13:27:17.669290Z",
     "start_time": "2023-06-07T13:27:17.652006Z"
    }
   }
  },
  {
   "cell_type": "markdown",
   "source": [
    "To measure what we got on $s$ qubits, we define a measurement and append that to the circuit."
   ],
   "metadata": {
    "collapsed": false
   }
  },
  {
   "cell_type": "code",
   "execution_count": 10,
   "outputs": [],
   "source": [
    "def measurement_s(qc):\n",
    "    num_bits = len(s)\n",
    "    meas = QuantumCircuit(num_bits, num_bits)\n",
    "    meas.measure(list(range(num_bits)), list(range(num_bits)))\n",
    "    qc.compose(meas, inplace=True, qubits=s)\n",
    "\n",
    "measurement_s(qc)"
   ],
   "metadata": {
    "collapsed": false,
    "ExecuteTime": {
     "end_time": "2023-06-07T13:27:17.669586Z",
     "start_time": "2023-06-07T13:27:17.656554Z"
    }
   }
  },
  {
   "cell_type": "markdown",
   "source": [
    "Then, run the circuit on a simulator and plot the results."
   ],
   "metadata": {
    "collapsed": false
   }
  },
  {
   "cell_type": "code",
   "execution_count": 11,
   "outputs": [],
   "source": [
    "def execute(qc, num_shots=1000):\n",
    "    backend = provider.backend.ibmq_qasm_simulator\n",
    "    result = backend.run(transpile(qc, backend), shots=num_shots).result()\n",
    "    return result.get_counts(qc)\n",
    "\n",
    "\n",
    "counts = execute(qc)"
   ],
   "metadata": {
    "collapsed": false,
    "ExecuteTime": {
     "end_time": "2023-06-07T13:27:40.302180Z",
     "start_time": "2023-06-07T13:27:17.658751Z"
    }
   }
  },
  {
   "cell_type": "code",
   "execution_count": 12,
   "outputs": [
    {
     "data": {
      "text/plain": "<Figure size 504x360 with 1 Axes>",
      "image/png": "[encoded data removed]"
     },
     "execution_count": 12,
     "metadata": {},
     "output_type": "execute_result"
    }
   ],
   "source": [
    "plot_histogram(counts)"
   ],
   "metadata": {
    "collapsed": false,
    "ExecuteTime": {
     "end_time": "2023-06-07T13:27:40.408321Z",
     "start_time": "2023-06-07T13:27:40.311614Z"
    }
   }
  },
  {
   "cell_type": "code",
   "execution_count": 12,
   "outputs": [],
   "source": [],
   "metadata": {
    "collapsed": false,
    "ExecuteTime": {
     "end_time": "2023-06-07T13:27:40.412103Z",
     "start_time": "2023-06-07T13:27:40.408539Z"
    }
   }
  }
 ],
 "metadata": {
  "kernelspec": {
   "display_name": "Python 3",
   "language": "python",
   "name": "python3"
  },
  "language_info": {
   "codemirror_mode": {
    "name": "ipython",
    "version": 2
   },
   "file_extension": ".py",
   "mimetype": "text/x-python",
   "name": "python",
   "nbconvert_exporter": "python",
   "pygments_lexer": "ipython2",
   "version": "2.7.6"
  }
 },
 "nbformat": 4,
 "nbformat_minor": 0
}
